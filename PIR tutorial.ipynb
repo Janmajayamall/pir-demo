{
 "cells": [
  {
   "cell_type": "markdown",
   "id": "e84187f1",
   "metadata": {},
   "source": [
    "1. Secret key encryption - attempt 1\n",
    "2. Secret key ecnryption - attempt 2\n",
    "    Show additive homomorphism\n",
    "    Show failure of additive homomorphism\n",
    "    Show plaintext inner product\n",
    "3. Show plaintext PIR\n",
    "4. Show encrypted PIR"
   ]
  },
  {
   "cell_type": "code",
   "execution_count": 180,
   "id": "9ec513f7",
   "metadata": {},
   "outputs": [],
   "source": [
    "import random\n",
    "\n",
    "class Matrix:\n",
    "\n",
    "    def __init__(self, mod, rows, cols, mat):\n",
    "        self.mod = mod\n",
    "        self.rows = rows\n",
    "        self.cols = cols\n",
    "        self.mat = mat\n",
    "        \n",
    "    def scale(self, numerator, denominator, new_q):\n",
    "        mat = [0] * (self.rows * self.cols)\n",
    "        for index in range(len(self.mat)):\n",
    "            mat[index] = round((numerator * self.mat[index])/denominator) % new_q\n",
    "        return Matrix(new_q, self.rows, self.cols, mat)\n",
    "\n",
    "                \n",
    "\n",
    "    def __mul__(self, other):\n",
    "        assert (self.cols == other.rows)\n",
    "        mat = [0] * (self.rows * other.cols)\n",
    "        for i in range(self.rows):\n",
    "            for j in range(self.cols):\n",
    "                for k in range(other.cols):\n",
    "                    mat[i*other.cols + k] = (self.mat[i*self.cols + j] * other.mat[j*other.cols + k]) % self.mod\n",
    "        return Matrix(self.mod, self.rows, other.cols, mat)\n",
    "        \n",
    "\n",
    "    def __add__(self, other):\n",
    "        assert (self.rows == other.rows and self.cols == other.cols)\n",
    "        for index in range(len(self.mat)):\n",
    "            self.mat[index] = (self.mat[index] + other.mat[index]) % self.mod\n",
    "        return self\n",
    "\n",
    "    def __sub__(self, other):\n",
    "        assert (self.rows == other.rows and self.cols == other.cols)\n",
    "        for index in range(len(self.mat)):\n",
    "            self.mat[index] = (self.mat[index] - other.mat[index]) % self.mod\n",
    "        return self\n",
    "    \n",
    "    def __eq__(self, other):\n",
    "        return self.rows == other.rows and self.cols == other.cols and self.mat == other.mat\n",
    "\n",
    "    def __repr__(self):\n",
    "        return \"Rows:\"+ str(self.rows) + \" Cols:\" + str(self.cols) + \" \\nMatrix(\" + str(self.mat) + \")\"\n",
    "\n",
    "def random_matrix(mod, rows, cols): \n",
    "    mat = [random.randint(0, mod - 1) for _ in range(rows * cols)]\n",
    "    return Matrix(mod, rows, cols, mat)\n",
    "\n",
    "def sample_error(bound):\n",
    "    return random.randint(-bound, +bound)\n",
    "\n",
    "def sample_error_matrix(bound, mod, rows, cols): \n",
    "    mat = [sample_error(bound) % mod for _ in range(cols * rows)]\n",
    "    return Matrix(mod, rows, cols, mat)"
   ]
  },
  {
   "cell_type": "code",
   "execution_count": null,
   "id": "1d6b27e8",
   "metadata": {},
   "outputs": [],
   "source": [
    "\n"
   ]
  },
  {
   "cell_type": "code",
   "execution_count": 181,
   "id": "c5ad6169",
   "metadata": {},
   "outputs": [],
   "source": [
    "a = random_matrix(32, 10,10)\n",
    "b = random_matrix(32, 10,10)"
   ]
  },
  {
   "cell_type": "code",
   "execution_count": 182,
   "id": "d86e0c2d",
   "metadata": {},
   "outputs": [
    {
     "name": "stdout",
     "output_type": "stream",
     "text": [
      "Rows:10 Cols:10 \n",
      "Matrix([7, 9, 28, 25, 17, 18, 10, 1, 6, 9, 0, 25, 30, 17, 7, 2, 10, 9, 21, 16, 7, 31, 24, 4, 11, 7, 27, 17, 20, 22, 22, 21, 25, 21, 2, 28, 19, 14, 16, 19, 7, 6, 5, 29, 25, 17, 3, 10, 24, 27, 17, 29, 5, 23, 19, 23, 26, 24, 2, 17, 0, 8, 25, 22, 3, 0, 18, 14, 8, 20, 18, 6, 16, 3, 21, 6, 24, 11, 5, 4, 5, 6, 6, 9, 13, 10, 6, 6, 18, 8, 17, 15, 11, 1, 12, 14, 3, 17, 21, 14])\n"
     ]
    }
   ],
   "source": [
    "c = a + b\n",
    "print(c)"
   ]
  },
  {
   "cell_type": "markdown",
   "id": "e8a779cb",
   "metadata": {},
   "source": [
    "Secret key regev ecnryption scheme\n",
    "\n",
    "We paramterise the scheme with n, m, q, p. \n",
    "\n",
    "We have chosen parameter values for covenience of the tutorial and they are not secure. To find out more how to figure out secure values check here (INSERT LINK)"
   ]
  },
  {
   "cell_type": "markdown",
   "id": "130aa712",
   "metadata": {},
   "source": [
    "## Attempt 1"
   ]
  },
  {
   "cell_type": "code",
   "execution_count": 183,
   "id": "ba557605",
   "metadata": {},
   "outputs": [],
   "source": [
    "n = 10\n",
    "m = 100\n",
    "p = 50\n",
    "bound = 2\n",
    "q = 1000\n",
    "\n",
    "e1 = sample_error(bound)"
   ]
  },
  {
   "cell_type": "code",
   "execution_count": 184,
   "id": "d08a617d",
   "metadata": {},
   "outputs": [],
   "source": [
    "s = random_matrix(q, n, 1)\n",
    "m0 = random_matrix(q, m, 1)"
   ]
  },
  {
   "cell_type": "markdown",
   "id": "f682c155",
   "metadata": {},
   "source": [
    "Encrypt "
   ]
  },
  {
   "cell_type": "code",
   "execution_count": 185,
   "id": "995f836b",
   "metadata": {},
   "outputs": [],
   "source": [
    "A = random_matrix(q, m, n)\n",
    "e = sample_error_matrix(bound, q, m, 1)\n",
    "B = (A * s) + e + m0 \n",
    "c = (B, A)"
   ]
  },
  {
   "cell_type": "markdown",
   "id": "b26f8620",
   "metadata": {},
   "source": [
    "Decrypt"
   ]
  },
  {
   "cell_type": "code",
   "execution_count": 186,
   "id": "8b03c57d",
   "metadata": {},
   "outputs": [],
   "source": [
    "# Given c and secret s\n",
    "B = c[0]\n",
    "A = c[1]\n",
    "m1 = B - (A * s)\n",
    "\n",
    "# Notice that m1 != m0 \n",
    "assert(m1 != m0)\n",
    "\n",
    "# Since m1 = m0 + e, m1 - e == m0 \n",
    "# TODO implement equality\n",
    "assert((m1 - e) == m0)"
   ]
  },
  {
   "cell_type": "markdown",
   "id": "b9ee1b4a",
   "metadata": {},
   "source": [
    "## Attempt 2"
   ]
  },
  {
   "cell_type": "markdown",
   "id": "eb371b22",
   "metadata": {},
   "source": [
    "Encrypt"
   ]
  },
  {
   "cell_type": "code",
   "execution_count": 187,
   "id": "17a1161a",
   "metadata": {},
   "outputs": [],
   "source": [
    "delta = q / p\n",
    "m0 = random_matrix(p, m, 1) \n",
    "m12 = m0\n",
    "m0_scaled = m0.scale(q, p, q)\n",
    "A = random_matrix(q, m, n)\n",
    "e = sample_error_matrix(bound, q, m, 1)\n",
    "B = (A * s) + e + m0_scaled \n",
    "c = (B, A)"
   ]
  },
  {
   "cell_type": "markdown",
   "id": "3629fb53",
   "metadata": {},
   "source": [
    "Decrypt"
   ]
  },
  {
   "cell_type": "code",
   "execution_count": 188,
   "id": "f4c971d1",
   "metadata": {},
   "outputs": [],
   "source": [
    "B = c[0]\n",
    "A = c[1]\n",
    "m1 = B - (A * s)\n",
    "m0_r = m1.scale(p, q, p)\n"
   ]
  },
  {
   "cell_type": "code",
   "execution_count": 189,
   "id": "c391cea6",
   "metadata": {},
   "outputs": [
    {
     "name": "stdout",
     "output_type": "stream",
     "text": [
      "Rows:100 Cols:1 \n",
      "Matrix([3.05, 5.05, 18.95, 15.9, 4.0, 31.95, 35.9, 4.1, 46.05, 9.05, 33.95, 48.1, 32.9, 0.9, 18.0, 43.1, 17.05, 6.9, 34.05, 9.9, 34.05, 12.1, 32.1, 21.1, 46.1, 23.0, 42.0, 20.95, 12.0, 46.95, 15.9, 1.1, 15.9, 46.1, 33.95, 19.95, 46.1, 4.0, 26.05, 27.0, 48.1, 34.05, 25.1, 12.9, 49.05, 1.1, 47.9, 5.95, 26.9, 47.9, 42.0, 31.95, 36.1, 32.05, 10.95, 20.9, 47.1, 36.1, 35.05, 6.9, 3.9, 33.0, 11.1, 4.9, 19.95, 31.95, 35.1, 49.0, 46.1, 37.95, 44.0, 46.1, 14.1, 12.1, 10.1, 16.0, 24.0, 6.0, 13.9, 30.05, 5.1, 40.95, 12.9, 0.1, 18.0, 46.95, 5.05, 11.05, 2.9, 43.1, 46.05, 20.1, 48.05, 19.9, 28.0, 9.95, 13.95, 31.9, 4.9, 13.9])\n",
      "Rows:100 Cols:1 \n",
      "Matrix([3, 5, 19, 16, 4, 32, 36, 4, 46, 9, 34, 48, 33, 1, 18, 43, 17, 7, 34, 10, 34, 12, 32, 21, 46, 23, 42, 21, 12, 47, 16, 1, 16, 46, 34, 20, 46, 4, 26, 27, 48, 34, 25, 13, 49, 1, 48, 6, 27, 48, 42, 32, 36, 32, 11, 21, 47, 36, 35, 7, 4, 33, 11, 5, 20, 32, 35, 49, 46, 38, 44, 46, 14, 12, 10, 16, 24, 6, 14, 30, 5, 41, 13, 0, 18, 47, 5, 11, 3, 43, 46, 20, 48, 20, 28, 10, 14, 32, 5, 14])\n"
     ]
    }
   ],
   "source": [
    "print(m0_r)\n",
    "print(m12)\n"
   ]
  },
  {
   "cell_type": "code",
   "execution_count": null,
   "id": "84cf84ec",
   "metadata": {},
   "outputs": [],
   "source": []
  },
  {
   "cell_type": "code",
   "execution_count": null,
   "id": "10d8963c",
   "metadata": {},
   "outputs": [],
   "source": []
  }
 ],
 "metadata": {
  "kernelspec": {
   "display_name": "Python 3 (ipykernel)",
   "language": "python",
   "name": "python3"
  },
  "language_info": {
   "codemirror_mode": {
    "name": "ipython",
    "version": 3
   },
   "file_extension": ".py",
   "mimetype": "text/x-python",
   "name": "python",
   "nbconvert_exporter": "python",
   "pygments_lexer": "ipython3",
   "version": "3.11.2"
  }
 },
 "nbformat": 4,
 "nbformat_minor": 5
}
