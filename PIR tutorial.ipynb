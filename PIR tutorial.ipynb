{
 "cells": [
  {
   "cell_type": "markdown",
   "id": "e84187f1",
   "metadata": {},
   "source": [
    "1. Secret key encryption - attempt 1\n",
    "2. Secret key ecnryption - attempt 2\n",
    "    Show additive homomorphism\n",
    "    Show failure of additive homomorphism\n",
    "    Show plaintext inner product\n",
    "3. Show plaintext PIR\n",
    "4. Show encrypted PIR"
   ]
  },
  {
   "cell_type": "code",
   "execution_count": 50,
   "id": "9ec513f7",
   "metadata": {},
   "outputs": [],
   "source": [
    "import random\n",
    "\n",
    "class Matrix:\n",
    "\n",
    "    def __init__(self, mod, rows, cols, mat):\n",
    "        self.mod = mod\n",
    "        self.rows = rows\n",
    "        self.cols = cols\n",
    "        self.mat = mat\n",
    "        \n",
    "    def scale(self, delta, new_q):\n",
    "        for index in range(len(self.mat)):\n",
    "            self.mat[index] = (delta * self.mat[index]) % new_q\n",
    "        return Matrix(new_q, self.rows, self.cols, self.mat)\n",
    "                \n",
    "\n",
    "    def __mul__(self, other):\n",
    "        assert (self.cols == other.rows)\n",
    "        mat = [0] * (self.rows * other.cols)\n",
    "        for i in range(self.rows):\n",
    "            for j in range(self.cols):\n",
    "                for k in range(other.cols):\n",
    "                    mat[i*other.cols + k] = (self.mat[i*self.cols + j] * other.mat[j*other.cols + k]) % self.mod\n",
    "        return Matrix(self.mod, self.rows, other.cols, mat)\n",
    "        \n",
    "\n",
    "    def __add__(self, other):\n",
    "        assert (self.rows == other.rows and self.cols == other.cols)\n",
    "        for index in range(len(self.mat)):\n",
    "            self.mat[index] = (self.mat[index] + other.mat[index]) % self.mod\n",
    "        return self\n",
    "\n",
    "    def __sub__(self, other):\n",
    "        assert (self.rows == other.rows and self.cols == other.cols)\n",
    "        for index in range(len(self.mat)):\n",
    "            self.mat[index] = (self.mat[index] - other.mat[index]) % self.mod\n",
    "        return self\n",
    "\n",
    "    def __repr__(self):\n",
    "        return \"Rows:\"+ str(self.rows) + \" Cols:\" + str(self.cols) + \" \\nMatrix(\" + str(self.mat) + \")\"\n",
    "\n",
    "def random_matrix(mod, rows, cols): \n",
    "    mat = [random.randint(0, mod - 1) for _ in range(rows * cols)]\n",
    "    return Matrix(mod, rows, cols, mat)\n",
    "\n",
    "def sample_error(bound):\n",
    "    return random.randint(-bound, +bound)\n",
    "\n",
    "def sample_error_matrix(bound, mod, rows, cols): \n",
    "    mat = [sample_error(bound) % mod for _ in range(cols * rows)]\n",
    "    return Matrix(mod, rows, cols, mat)"
   ]
  },
  {
   "cell_type": "code",
   "execution_count": null,
   "id": "1d6b27e8",
   "metadata": {},
   "outputs": [],
   "source": []
  },
  {
   "cell_type": "code",
   "execution_count": 51,
   "id": "c5ad6169",
   "metadata": {},
   "outputs": [
    {
     "name": "stdout",
     "output_type": "stream",
     "text": [
      "Rows:10 Cols:10 \n",
      "Matrix([3, 27, 1, 19, 6, 1, 17, 7, 7, 10, 23, 6, 20, 11, 24, 13, 22, 17, 22, 3, 30, 15, 23, 19, 14, 26, 23, 0, 3, 29, 14, 28, 28, 14, 24, 24, 12, 24, 1, 31, 1, 24, 0, 0, 15, 13, 17, 7, 9, 10, 29, 9, 11, 7, 22, 21, 18, 15, 0, 10, 1, 27, 18, 15, 11, 6, 30, 11, 20, 18, 21, 2, 24, 26, 31, 26, 13, 18, 27, 6, 7, 28, 23, 8, 30, 18, 0, 27, 17, 23, 10, 24, 22, 26, 23, 27, 21, 2, 26, 18])\n",
      "Rows:10 Cols:10 \n",
      "Matrix([6, 54, 2, 38, 12, 2, 34, 14, 14, 20, 46, 12, 40, 22, 48, 26, 44, 34, 44, 6, 4, 30, 46, 38, 28, 52, 46, 0, 6, 2, 28, 0, 0, 28, 48, 48, 24, 48, 2, 6, 2, 48, 0, 0, 30, 26, 34, 14, 18, 20, 2, 18, 22, 14, 44, 42, 36, 30, 0, 20, 2, 54, 36, 30, 22, 12, 4, 22, 40, 36, 42, 4, 48, 52, 6, 52, 26, 36, 54, 12, 14, 0, 46, 16, 4, 36, 0, 54, 34, 46, 20, 48, 44, 52, 46, 54, 42, 4, 52, 36])\n"
     ]
    }
   ],
   "source": [
    "a = random_matrix(32, 10,10)\n",
    "b = random_matrix(32, 10,10)\n",
    "print(b)\n",
    "b.scale(2, 56)\n",
    "print(b)"
   ]
  },
  {
   "cell_type": "code",
   "execution_count": 52,
   "id": "d86e0c2d",
   "metadata": {},
   "outputs": [
    {
     "name": "stdout",
     "output_type": "stream",
     "text": [
      "Rows:10 Cols:10 \n",
      "Matrix([12, 16, 20, 12, 18, 10, 22, 28, 12, 28, 20, 16, 12, 20, 14, 22, 10, 4, 20, 4, 12, 16, 20, 12, 2, 26, 6, 28, 12, 28, 20, 16, 12, 20, 14, 22, 10, 4, 20, 4, 20, 16, 12, 20, 14, 22, 10, 4, 20, 4, 12, 16, 20, 12, 18, 10, 22, 28, 12, 28, 0, 0, 0, 0, 0, 0, 0, 0, 0, 0, 12, 16, 20, 12, 18, 10, 22, 28, 12, 28, 28, 16, 4, 28, 10, 2, 30, 12, 28, 12, 8, 0, 24, 8, 12, 28, 4, 8, 8, 8])\n"
     ]
    }
   ],
   "source": [
    "c = a * b\n",
    "print(c)"
   ]
  },
  {
   "cell_type": "markdown",
   "id": "e8a779cb",
   "metadata": {},
   "source": [
    "Secret key regev ecnryption scheme\n",
    "\n",
    "We paramterise the scheme with n, m, q, p. \n",
    "\n",
    "We have chosen parameter values for covenience of the tutorial and they are not secure. To find out more how to figure out secure values check here (INSERT LINK)"
   ]
  },
  {
   "cell_type": "markdown",
   "id": "130aa712",
   "metadata": {},
   "source": [
    "## Attempt 1"
   ]
  },
  {
   "cell_type": "code",
   "execution_count": 53,
   "id": "ba557605",
   "metadata": {},
   "outputs": [],
   "source": [
    "n = 10\n",
    "m = 100\n",
    "p = 50\n",
    "B = 2\n",
    "q = 1000\n",
    "\n",
    "e1 = sample_error(B)"
   ]
  },
  {
   "cell_type": "code",
   "execution_count": 54,
   "id": "d08a617d",
   "metadata": {},
   "outputs": [],
   "source": [
    "s = random_matrix(q, n, 1)\n",
    "m0 = random_matrix(q, m, 1)"
   ]
  },
  {
   "cell_type": "markdown",
   "id": "f682c155",
   "metadata": {},
   "source": [
    "Encrypt "
   ]
  },
  {
   "cell_type": "code",
   "execution_count": 55,
   "id": "995f836b",
   "metadata": {},
   "outputs": [],
   "source": [
    "A = random_matrix(q, m, n)\n",
    "e = sample_error_matrix(B, q, m, 1)\n",
    "B = (A * s) + e + m0 \n",
    "c = (B, A)"
   ]
  },
  {
   "cell_type": "markdown",
   "id": "b26f8620",
   "metadata": {},
   "source": [
    "Decrypt"
   ]
  },
  {
   "cell_type": "code",
   "execution_count": 56,
   "id": "8b03c57d",
   "metadata": {},
   "outputs": [
    {
     "name": "stdout",
     "output_type": "stream",
     "text": [
      "Rows:100 Cols:1 \n",
      "Matrix([257, 446, 735, 629, 10, 133, 483, 12, 625, 643, 786, 321, 629, 413, 890, 370, 755, 925, 796, 134, 770, 95, 805, 187, 826, 17, 40, 821, 349, 902, 93, 359, 505, 909, 664, 281, 816, 751, 69, 162, 609, 895, 686, 866, 37, 690, 622, 538, 16, 110, 355, 463, 613, 123, 587, 154, 167, 651, 361, 592, 654, 242, 592, 607, 628, 428, 193, 91, 979, 263, 849, 348, 714, 803, 6, 822, 573, 871, 79, 948, 948, 252, 425, 824, 691, 479, 760, 779, 687, 572, 457, 186, 16, 527, 373, 784, 354, 744, 668, 524]) Rows:100 Cols:1 \n",
      "Matrix([257, 446, 735, 629, 10, 133, 483, 12, 625, 643, 786, 321, 629, 413, 890, 370, 755, 925, 796, 134, 770, 95, 805, 187, 826, 17, 40, 821, 349, 902, 93, 359, 505, 909, 664, 281, 816, 751, 69, 162, 609, 895, 686, 866, 37, 690, 622, 538, 16, 110, 355, 463, 613, 123, 587, 154, 167, 651, 361, 592, 654, 242, 592, 607, 628, 428, 193, 91, 979, 263, 849, 348, 714, 803, 6, 822, 573, 871, 79, 948, 948, 252, 425, 824, 691, 479, 760, 779, 687, 572, 457, 186, 16, 527, 373, 784, 354, 744, 668, 524])\n"
     ]
    }
   ],
   "source": [
    "# Given c and secret s\n",
    "B = c[0]\n",
    "A = c[1]\n",
    "m1 = B - (A * s)\n",
    "\n",
    "# Notice that m1 != m0 \n",
    "assert(m1 != m0)\n",
    "\n",
    "# Since m1 = m0 + e, m1 - e == m0 \n",
    "# TODO implement equality\n",
    "tmp = m1 - e\n",
    "print(tmp, m0)"
   ]
  },
  {
   "cell_type": "markdown",
   "id": "b9ee1b4a",
   "metadata": {},
   "source": [
    "## Attempt 2"
   ]
  },
  {
   "cell_type": "markdown",
   "id": "eb371b22",
   "metadata": {},
   "source": [
    "Encrypt"
   ]
  },
  {
   "cell_type": "code",
   "execution_count": 57,
   "id": "17a1161a",
   "metadata": {},
   "outputs": [
    {
     "ename": "SyntaxError",
     "evalue": "invalid syntax (1644214320.py, line 3)",
     "output_type": "error",
     "traceback": [
      "\u001b[0;36m  Cell \u001b[0;32mIn[57], line 3\u001b[0;36m\u001b[0m\n\u001b[0;31m    mo_scaled =\u001b[0m\n\u001b[0m                ^\u001b[0m\n\u001b[0;31mSyntaxError\u001b[0m\u001b[0;31m:\u001b[0m invalid syntax\n"
     ]
    }
   ],
   "source": [
    "delta = q / p\n",
    "m0 = random_matrix(p, m, 1) \n",
    "mo_scaled = \n",
    "A = random_matrix(q, m, n)\n",
    "e = sample_error_matrix(B, q, m, 1)\n",
    "B = (A * s) + e + m0_scaled \n",
    "c = (B, A)\n",
    "print(delta)"
   ]
  },
  {
   "cell_type": "code",
   "execution_count": null,
   "id": "f4c971d1",
   "metadata": {},
   "outputs": [],
   "source": []
  }
 ],
 "metadata": {
  "kernelspec": {
   "display_name": "Python 3 (ipykernel)",
   "language": "python",
   "name": "python3"
  },
  "language_info": {
   "codemirror_mode": {
    "name": "ipython",
    "version": 3
   },
   "file_extension": ".py",
   "mimetype": "text/x-python",
   "name": "python",
   "nbconvert_exporter": "python",
   "pygments_lexer": "ipython3",
   "version": "3.11.2"
  }
 },
 "nbformat": 4,
 "nbformat_minor": 5
}
