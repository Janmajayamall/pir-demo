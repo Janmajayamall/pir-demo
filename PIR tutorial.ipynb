{
 "cells": [
  {
   "cell_type": "markdown",
   "id": "e84187f1",
   "metadata": {},
   "source": [
    "1. Secret key encryption - attempt 1\n",
    "2. Secret key ecnryption - attempt 2\n",
    "    Show additive homomorphism\n",
    "    Show failure of additive homomorphism\n",
    "    Show plaintext inner product\n",
    "3. Show plaintext PIR\n",
    "4. Show encrypted PIR"
   ]
  },
  {
   "cell_type": "code",
   "execution_count": 450,
   "id": "9ec513f7",
   "metadata": {},
   "outputs": [],
   "source": [
    "import random\n",
    "\n",
    "class Matrix:\n",
    "\n",
    "    def __init__(self, mod, rows, cols, mat):\n",
    "        self.mod = mod\n",
    "        self.rows = rows\n",
    "        self.cols = cols\n",
    "        self.mat = mat\n",
    "        \n",
    "    def scale(self, numerator, denominator, new_q):\n",
    "        mat = [0] * (self.rows * self.cols)\n",
    "        for index in range(len(self.mat)):\n",
    "            mat[index] = round((numerator * self.mat[index])/denominator) % new_q\n",
    "        return Matrix(new_q, self.rows, self.cols, mat)\n",
    "\n",
    "                \n",
    "\n",
    "    def __mul__(self, other):\n",
    "        assert (self.cols == other.rows)\n",
    "        mat = [0] * (self.rows * other.cols)\n",
    "        for i in range(self.rows):\n",
    "            for j in range(self.cols):\n",
    "                for k in range(other.cols):\n",
    "                    mat[i*other.cols + k] = (mat[i*other.cols + k] + (self.mat[i*self.cols + j] * other.mat[j*other.cols + k])) % self.mod\n",
    "        return Matrix(self.mod, self.rows, other.cols, mat)\n",
    "        \n",
    "\n",
    "    def __add__(self, other):\n",
    "        assert (self.rows == other.rows and self.cols == other.cols)\n",
    "        for index in range(len(self.mat)):\n",
    "            self.mat[index] = (self.mat[index] + other.mat[index]) % self.mod\n",
    "        return self\n",
    "\n",
    "    def __sub__(self, other):\n",
    "        assert (self.rows == other.rows and self.cols == other.cols)\n",
    "        for index in range(len(self.mat)):\n",
    "            self.mat[index] = (self.mat[index] - other.mat[index]) % self.mod\n",
    "        return self\n",
    "    \n",
    "    def __eq__(self, other):\n",
    "        return self.rows == other.rows and self.cols == other.cols and self.mat == other.mat\n",
    "\n",
    "    def __repr__(self):\n",
    "        return \"Rows:\"+ str(self.rows) + \" Cols:\" + str(self.cols) + \" \\nMatrix(\" + str(self.mat) + \")\"\n",
    "\n",
    "def random_matrix(mod, rows, cols): \n",
    "    mat = [random.randint(0, mod - 1) for _ in range(rows * cols)]\n",
    "    return Matrix(mod, rows, cols, mat)\n",
    "\n",
    "def sample_error(bound):\n",
    "    return random.randint(-bound, +bound)\n",
    "\n",
    "def sample_error_matrix(bound, mod, rows, cols): \n",
    "    mat = [sample_error(bound) % mod for _ in range(cols * rows)]\n",
    "    return Matrix(mod, rows, cols, mat)"
   ]
  },
  {
   "cell_type": "markdown",
   "id": "931416ee",
   "metadata": {},
   "source": [
    "# Secret Key Regev Encryption"
   ]
  },
  {
   "cell_type": "markdown",
   "id": "e8a779cb",
   "metadata": {},
   "source": [
    "LWE parameters n, m, q, p, $\\sigma$ should be chosen such that solving LWE is hard. \n",
    "\n",
    "In practice you will use tools like [lattice estimator](https://github.com/malb/lattice-estimator) to figure out the secruity of your chosen parameters. \n",
    "\n",
    "For the purposes of the tutorial we will working with \"bound\" instead of sampling errors from $\\sigma$. This means we will randomly sample error from the range \\[-bound, +bound\\]\n",
    "\n",
    "Warning: None of LWE parameters use throughout the tutorial are secure. "
   ]
  },
  {
   "cell_type": "markdown",
   "id": "130aa712",
   "metadata": {},
   "source": [
    "## Attempt 1\n",
    "\n",
    "Idea behind attempt one is easy. Since B = As+e, let's just add message vector m0 to As+e to encrypt. "
   ]
  },
  {
   "cell_type": "code",
   "execution_count": 451,
   "id": "ba557605",
   "metadata": {},
   "outputs": [],
   "source": [
    "# LWE parameters\n",
    "n = 10\n",
    "m = 100\n",
    "p = 50\n",
    "bound = 3\n",
    "q = 1000"
   ]
  },
  {
   "cell_type": "code",
   "execution_count": 452,
   "id": "d08a617d",
   "metadata": {},
   "outputs": [],
   "source": [
    "s = random_matrix(q, n, 1)\n",
    "m0 = random_matrix(q, m, 1)"
   ]
  },
  {
   "cell_type": "markdown",
   "id": "f682c155",
   "metadata": {},
   "source": [
    "### Encrypt "
   ]
  },
  {
   "cell_type": "code",
   "execution_count": 453,
   "id": "995f836b",
   "metadata": {},
   "outputs": [],
   "source": [
    "A = random_matrix(q, m, n)\n",
    "e = sample_error_matrix(bound, q, m, 1)\n",
    "B = (A * s) + e + m0 \n",
    "# ciphertext `c` consists of two components, B and A. \n",
    "c = (B, A)"
   ]
  },
  {
   "cell_type": "markdown",
   "id": "b26f8620",
   "metadata": {},
   "source": [
    "### Decrypt"
   ]
  },
  {
   "cell_type": "code",
   "execution_count": 454,
   "id": "8b03c57d",
   "metadata": {},
   "outputs": [],
   "source": [
    "# Given c and secret s\n",
    "B = c[0]\n",
    "A = c[1]\n",
    "m1 = B - (A * s)\n",
    "\n",
    "# m1 != m0 \n",
    "# This is because message vector m0 got jumbled up with error vector e\n",
    "assert(m1 != m0)\n",
    "\n",
    "# However, if the decryptor knws `e` (which isn't the case) they can extract the message\n",
    "# Since m1 = m0 + e, m1 - e == m0 \n",
    "assert((m1 - e) == m0)"
   ]
  },
  {
   "cell_type": "markdown",
   "id": "b9ee1b4a",
   "metadata": {},
   "source": [
    "## Attempt 2\n",
    "\n",
    "Since the message vector got jumbled up with error vector in last attemp, how about scaling the message vector by a factor before adding it to As + e and scaling back result of B - (A * s) during decryption?\n",
    "\n",
    "By scaling the message vector we assure that it lives in most significant bits of the ciphertext and does not gets jumbled up with error bits that live in least significant bits. \n",
    "\n",
    "However, due to scaling, we will have to reduce the bits in message vector to be smaller than bits in ciphertext. So instead of each value in message vector being modulo q, we will make it modulo p and p < q. We will set the scaling factor $\\Delta$ to q/p."
   ]
  },
  {
   "cell_type": "markdown",
   "id": "eb371b22",
   "metadata": {},
   "source": [
    "## Encrypt"
   ]
  },
  {
   "cell_type": "code",
   "execution_count": 455,
   "id": "17a1161a",
   "metadata": {},
   "outputs": [],
   "source": [
    "delta = q / p\n",
    "m0 = random_matrix(p, m, 1) \n",
    "# scale message vector by delta\n",
    "m0_scaled = m0.scale(q, p, q)\n",
    "A = random_matrix(q, m, n)\n",
    "e = sample_error_matrix(bound, q, m, 1)\n",
    "B = (A * s) + e + m0_scaled \n",
    "c = (B, A)"
   ]
  },
  {
   "cell_type": "markdown",
   "id": "bb107a60",
   "metadata": {},
   "source": [
    "## Decrypt"
   ]
  },
  {
   "cell_type": "code",
   "execution_count": 456,
   "id": "f4c971d1",
   "metadata": {},
   "outputs": [],
   "source": [
    "B = c[0]\n",
    "A = c[1]\n",
    "m1 = B - (A * s)\n",
    "# scale messge by 1/delta\n",
    "m0_r = m1.scale(p, q, p)"
   ]
  },
  {
   "cell_type": "code",
   "execution_count": 457,
   "id": "3740c83e",
   "metadata": {},
   "outputs": [],
   "source": [
    "# decryption works!\n",
    "assert(m0_r == m0)\n"
   ]
  },
  {
   "cell_type": "markdown",
   "id": "04802a4d",
   "metadata": {},
   "source": [
    "# Additive homomorphism\n",
    "\n",
    "Secret Key Regev Encryption is additive homomorphic. \n",
    "\n",
    "Let's say c0 ecnrypts m0 and c1 encrypts m1 under secret vector s. If I add c0 + c1 and set that as c2, decrypting c2 will produce m2 such that m2 = m0+m1"
   ]
  },
  {
   "cell_type": "code",
   "execution_count": 458,
   "id": "52c38514",
   "metadata": {},
   "outputs": [],
   "source": [
    "delta = q / p\n",
    "m0 = random_matrix(p, m, 1) \n",
    "m0_scaled = m0.scale(q, p, q)\n",
    "A0 = random_matrix(q, m, n)\n",
    "e0 = sample_error_matrix(bound, q, m, 1)\n",
    "B0 = (A0 * s) + e0 + m0_scaled \n",
    "c0 = (B0, A0)\n",
    "\n",
    "m1 = random_matrix(p, m, 1) \n",
    "m1_scaled = m1.scale(q, p, q)\n",
    "A1 = random_matrix(q, m, n)\n",
    "e1 = sample_error_matrix(bound, q, m, 1)\n",
    "B1 = (A1 * s) + e1 + m1_scaled \n",
    "c1 = (B1, A1)"
   ]
  },
  {
   "cell_type": "code",
   "execution_count": 459,
   "id": "89584726",
   "metadata": {},
   "outputs": [],
   "source": [
    "# c2 = c0 + c1\n",
    "c2 = (c0[0] + c1[0], c0[1] + c1[1])"
   ]
  },
  {
   "cell_type": "code",
   "execution_count": 460,
   "id": "32ac6b45",
   "metadata": {},
   "outputs": [],
   "source": [
    "# decrypt\n",
    "B = c2[0]\n",
    "A = c2[1]\n",
    "m0_r = B - (A * s)\n",
    "# scale messge by 1/delta\n",
    "m0_r = m0_r.scale(p, q, p)"
   ]
  },
  {
   "cell_type": "code",
   "execution_count": 461,
   "id": "b52592ae",
   "metadata": {},
   "outputs": [],
   "source": [
    "assert(m0_r == (m0 + m1))"
   ]
  },
  {
   "cell_type": "markdown",
   "id": "8e2bcf40",
   "metadata": {},
   "source": [
    "# Plaintext Inner product\n",
    "\n",
    "Let's say we have a plaintext vector k and a ciphertext c0 that encrypts plaintext vector m0. We can transform c0 to c1 such that it encrypts inner product of k and m0. \n"
   ]
  },
  {
   "cell_type": "code",
   "execution_count": 684,
   "id": "52bdef0d",
   "metadata": {},
   "outputs": [],
   "source": [
    "# NOTICE that we redine LWE parameter values\n",
    "n = 10\n",
    "m = 100\n",
    "p = 4\n",
    "bound = 2\n",
    "q = 1000\n",
    "\n",
    "s = random_matrix(p, n, 1) \n",
    "\n",
    "delta = q / p\n",
    "m0 = random_matrix(p, m, 1) \n",
    "m0_scaled = m0.scale(q, p, q)\n",
    "A0 = random_matrix(q, m, n)\n",
    "e0 = sample_error_matrix(bound, q, m, 1)\n",
    "B0 = (A0 * s) + e0 + m0_scaled \n",
    "c0 = (B0, A0)\n",
    "\n",
    "# k transposed\n",
    "k_T = random_matrix(p, 1, m)\n",
    "\n",
    "# Switch k_T from modulus p to modulus q\n",
    "k_T = k_T.scale(1, 1, q)"
   ]
  },
  {
   "cell_type": "code",
   "execution_count": 685,
   "id": "a9e8b20c",
   "metadata": {},
   "outputs": [],
   "source": [
    "c1 = (k_T * c0[0], k_T * c0[1])"
   ]
  },
  {
   "cell_type": "code",
   "execution_count": 686,
   "id": "04541a0d",
   "metadata": {},
   "outputs": [],
   "source": [
    "# decrypt\n",
    "B = c1[0]\n",
    "A = c1[1]\n",
    "m0_r = B - (A * s)\n",
    "# scale messge by 1/delta\n",
    "m0_r = m0_r.scale(p, q, p)"
   ]
  },
  {
   "cell_type": "code",
   "execution_count": 687,
   "id": "333af0d3",
   "metadata": {},
   "outputs": [],
   "source": [
    "# Switch k_T from modulus q back to p \n",
    "k_T = k_T.scale(1, 1, p)\n",
    "\n",
    "assert(m0_r == k_T * m0)"
   ]
  },
  {
   "cell_type": "markdown",
   "id": "4b4bb550",
   "metadata": {},
   "source": [
    "# Noise growth\n",
    "\n",
    "Notice that to make plaintext inner product work we changed LWE parameters and increased q = 1000 and decreased p = 4. This is to make sure that error growth, that is $k^{T}$$e0$, remains smaller than $\\Delta/2$. If $k^{T}e0 > \\Delta/2$ then decryption of c1 will not result to $k^{T}m0$. "
   ]
  },
  {
   "cell_type": "code",
   "execution_count": 732,
   "id": "d8090061",
   "metadata": {},
   "outputs": [
    {
     "name": "stdout",
     "output_type": "stream",
     "text": [
      "Correct decryption: False\n",
      "delta/2: 20.0\n",
      "Noise growth: 933\n"
     ]
    }
   ],
   "source": [
    "# Let's change LWE parameters again\n",
    "n = 10\n",
    "m = 1000\n",
    "p = 25\n",
    "bound = 3\n",
    "q = 1000\n",
    "\n",
    "# encrypt\n",
    "s = random_matrix(p, n, 1) \n",
    "delta = q / p\n",
    "m0 = random_matrix(p, m, 1) \n",
    "m0_scaled = m0.scale(q, p, q)\n",
    "A0 = random_matrix(q, m, n)\n",
    "e0 = sample_error_matrix(bound, q, m, 1)\n",
    "B0 = (A0 * s) + e0 + m0_scaled \n",
    "c0 = (B0, A0)\n",
    "\n",
    "# k transposed\n",
    "k_T = random_matrix(p, 1, m)\n",
    "\n",
    "# Switch k_T from modulus p to modulus q\n",
    "k_T = k_T.scale(1, 1, q)\n",
    "\n",
    "# if noise growth is greater than delta, then decryption fails\n",
    "noise_growth = k_T * e0\n",
    "\n",
    "# inner product\n",
    "c1 = (k_T * c0[0], k_T * c0[1])\n",
    "\n",
    "\n",
    "# decrypt\n",
    "B = c1[0]\n",
    "A = c1[1]\n",
    "m0_r = B - (A * s)\n",
    "# scale messge by 1/delta\n",
    "m0_r = m0_r.scale(p, q, p)\n",
    "\n",
    "\n",
    "# Switch k_T from modulus q back to p \n",
    "k_T = k_T.scale(1, 1, p)\n",
    "\n",
    "# Decryption fails whenever noise growth > delta/2 \n",
    "print(\"Correct decryption:\" ,m0_r == k_T * m0)\n",
    "print(\"delta/2:\", (q / p)/2)\n",
    "print(\"Noise growth:\", noise_growth.mat[0])"
   ]
  },
  {
   "cell_type": "markdown",
   "id": "964ace06",
   "metadata": {},
   "source": [
    "# SimplePIR\n",
    "\n",
    "We have all the tools to build a very simple [PIR scheme](https://eprint.iacr.org/2022/949). But before building real PIR, let's try building fake PIR to build the intuition of how a real PIR scheme would work. "
   ]
  },
  {
   "cell_type": "code",
   "execution_count": null,
   "id": "68048a76",
   "metadata": {},
   "outputs": [],
   "source": []
  },
  {
   "cell_type": "code",
   "execution_count": null,
   "id": "f6706b89",
   "metadata": {},
   "outputs": [],
   "source": []
  },
  {
   "cell_type": "code",
   "execution_count": null,
   "id": "bb3dfb4d",
   "metadata": {},
   "outputs": [],
   "source": []
  },
  {
   "cell_type": "code",
   "execution_count": null,
   "id": "43edaa06",
   "metadata": {},
   "outputs": [],
   "source": []
  },
  {
   "cell_type": "code",
   "execution_count": null,
   "id": "ea6a9e5d",
   "metadata": {},
   "outputs": [],
   "source": []
  },
  {
   "cell_type": "code",
   "execution_count": null,
   "id": "6b00ed14",
   "metadata": {},
   "outputs": [],
   "source": []
  }
 ],
 "metadata": {
  "kernelspec": {
   "display_name": "Python 3 (ipykernel)",
   "language": "python",
   "name": "python3"
  },
  "language_info": {
   "codemirror_mode": {
    "name": "ipython",
    "version": 3
   },
   "file_extension": ".py",
   "mimetype": "text/x-python",
   "name": "python",
   "nbconvert_exporter": "python",
   "pygments_lexer": "ipython3",
   "version": "3.11.2"
  }
 },
 "nbformat": 4,
 "nbformat_minor": 5
}
